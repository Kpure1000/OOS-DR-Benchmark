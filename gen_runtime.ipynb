{
 "cells": [
  {
   "cell_type": "markdown",
   "metadata": {},
   "source": [
    "# runtime perform"
   ]
  },
  {
   "cell_type": "code",
   "execution_count": 1,
   "metadata": {},
   "outputs": [],
   "source": [
    "import h5py as h5\n",
    "import numpy as np\n",
    "from sklearn.model_selection import train_test_split\n",
    "\n",
    "train_sizes = [0.9, 0.7, 0.5, 0.3, 0.1]\n",
    "input_datasets = [\n",
    "    ['sensor',        7213,  5, True , 'y'],\n",
    "    ['letter',        6450,  5, True , 'y'],\n",
    "    ['bison',         5000,  5, False, 'z'],\n",
    "    ['fashionMNIST',  4200,  5, True , 'y'],\n",
    "    ['merchant',      3897,  5, True , 'y'],\n",
    "    ['raid',          1955,  5, True , 'y'],\n",
    "    ['secom',         1567,  5, True , 'y'],\n",
    "    ['coil20',        1440,  5, False, 'yaw'],\n",
    "    ['cnae9',         1080,  5, True , 'y'],\n",
    "    ['fmd',           997,   5, True , 'y'],\n",
    "    ['isomapFace',    698,   5, False, 'posex'],\n",
    "    ['dendritic',     576,   5, True , 'y'],\n",
    "    ['headpose',      558,   5, False, 'posex'],\n",
    "]"
   ]
  },
  {
   "cell_type": "code",
   "execution_count": 2,
   "metadata": {},
   "outputs": [
    {
     "name": "stdout",
     "output_type": "stream",
     "text": [
      "Generating dataset 'sensor' with 5 stages\n",
      "  keys: ['X0', 'X1', 'X2', 'X3', 'X4', 'y0', 'y1', 'y2', 'y3', 'y4']\n",
      "Generating dataset 'letter' with 5 stages\n",
      "  keys: ['X0', 'X1', 'X2', 'X3', 'X4', 'y0', 'y1', 'y2', 'y3', 'y4']\n",
      "Generating dataset 'bison' with 5 stages\n",
      "  keys: ['X0', 'X1', 'X2', 'X3', 'X4', 'z0', 'z1', 'z2', 'z3', 'z4']\n",
      "Generating dataset 'fashionMNIST' with 5 stages\n",
      "  keys: ['X0', 'X1', 'X2', 'X3', 'X4', 'y0', 'y1', 'y2', 'y3', 'y4']\n",
      "Generating dataset 'merchant' with 5 stages\n",
      "  keys: ['X0', 'X1', 'X2', 'X3', 'X4', 'y0', 'y1', 'y2', 'y3', 'y4']\n",
      "Generating dataset 'raid' with 5 stages\n",
      "  keys: ['X0', 'X1', 'X2', 'X3', 'X4', 'y0', 'y1', 'y2', 'y3', 'y4']\n",
      "Generating dataset 'secom' with 5 stages\n",
      "  keys: ['X0', 'X1', 'X2', 'X3', 'X4', 'y0', 'y1', 'y2', 'y3', 'y4']\n",
      "Generating dataset 'coil20' with 5 stages\n",
      "  keys: ['X0', 'X1', 'X2', 'X3', 'X4', 'yaw0', 'yaw1', 'yaw2', 'yaw3', 'yaw4']\n",
      "Generating dataset 'cnae9' with 5 stages\n",
      "  keys: ['X0', 'X1', 'X2', 'X3', 'X4', 'y0', 'y1', 'y2', 'y3', 'y4']\n",
      "Generating dataset 'fmd' with 5 stages\n",
      "  keys: ['X0', 'X1', 'X2', 'X3', 'X4', 'y0', 'y1', 'y2', 'y3', 'y4']\n",
      "Generating dataset 'isomapFace' with 5 stages\n",
      "  keys: ['X0', 'X1', 'X2', 'X3', 'X4', 'posex0', 'posex1', 'posex2', 'posex3', 'posex4']\n",
      "Generating dataset 'dendritic' with 5 stages\n",
      "  keys: ['X0', 'X1', 'X2', 'X3', 'X4', 'y0', 'y1', 'y2', 'y3', 'y4']\n",
      "Generating dataset 'headpose' with 5 stages\n",
      "  keys: ['X0', 'X1', 'X2', 'X3', 'X4', 'posex0', 'posex1', 'posex2', 'posex3', 'posex4']\n",
      "All Done.\n"
     ]
    }
   ],
   "source": [
    "import sys\n",
    "from utils import *\n",
    "\n",
    "for dname, dsize, n_stage, is_labeled, label_name in input_datasets:\n",
    "    \n",
    "    with h5.File(f'datasets/truth/{dname}_{dsize}.h5', 'r') as f:\n",
    "        X_train=np.array(f['E'][f'X0'])\n",
    "        X_test=np.array(f['O'][f'X0'])\n",
    "        label_train=np.array(f['E'][f'{label_name}0'])\n",
    "        label_test=np.array(f['O'][f'{label_name}0'])\n",
    "\n",
    "    X = np.concatenate([X_train, X_test])\n",
    "    label = np.concatenate([label_train, label_test])\n",
    "\n",
    "    with h5.File(f'datasets/runtime/{dname}.h5', 'w') as f:\n",
    "        print(f\"Generating dataset '{dname}' with {len(train_sizes)} stages\")\n",
    "        ggE = f.create_group('E')\n",
    "        ggO = f.create_group('O')\n",
    "        for idx, train_size in enumerate(train_sizes):\n",
    "            if is_labeled:\n",
    "                XTrain, XTest, lTrain, lTest = train_test_split(X, label, train_size=train_size, random_state=1, stratify=label)\n",
    "            else:\n",
    "                XTrain, XTest, lTrain, lTest = train_test_split(X, label, train_size=train_size, random_state=0)\n",
    "            ggE.create_dataset(f'{label_name}{idx}', data=lTrain)\n",
    "            ggO.create_dataset(f'{label_name}{idx}', data=lTest)\n",
    "            ggE.create_dataset(f'X{idx}', data=XTrain)\n",
    "            ggO.create_dataset(f'X{idx}', data=XTest)\n",
    "        \n",
    "        print(f\"  keys: {list(ggE.keys())}\")\n",
    "\n",
    "print(\"All Done.\")\n",
    "\n"
   ]
  }
 ],
 "metadata": {
  "kernelspec": {
   "display_name": "Python 3",
   "language": "python",
   "name": "python3"
  },
  "language_info": {
   "codemirror_mode": {
    "name": "ipython",
    "version": 3
   },
   "file_extension": ".py",
   "mimetype": "text/x-python",
   "name": "python",
   "nbconvert_exporter": "python",
   "pygments_lexer": "ipython3",
   "version": "3.8.10"
  }
 },
 "nbformat": 4,
 "nbformat_minor": 2
}
